{
 "cells": [
  {
   "cell_type": "markdown",
   "id": "55c25b89",
   "metadata": {},
   "source": [
    "# Scraping Pinterest image URLs using selenium"
   ]
  },
  {
   "cell_type": "markdown",
   "id": "7ecd14c8",
   "metadata": {},
   "source": [
    "### Importing required libraries"
   ]
  },
  {
   "cell_type": "code",
   "execution_count": 8,
   "id": "ab534d57",
   "metadata": {},
   "outputs": [],
   "source": [
    "import pandas as pd\n",
    "from selenium import webdriver\n",
    "from selenium.webdriver.common.by import By\n",
    "from selenium.webdriver.common.keys import Keys\n",
    "import time"
   ]
  },
  {
   "cell_type": "code",
   "execution_count": 9,
   "id": "2aec98e7",
   "metadata": {},
   "outputs": [
    {
     "name": "stdout",
     "output_type": "stream",
     "text": [
      "Enter Pinterest tags (comma-separated): marvel\n",
      "Image URLs saved to pinterest_image_urls_['marvel'].csv\n"
     ]
    }
   ],
   "source": [
    "# Function to scrape Pinterest for image URLs based on tags\n",
    "def image_scraper(tags, driver):\n",
    "    base_url = \"https://www.pinterest.com\"\n",
    "    search_url = f\"{base_url}/search/pins/?q={'+'.join(tags)}\"\n",
    "\n",
    "    driver.get(search_url)\n",
    "    \n",
    "    image_urls = []\n",
    "\n",
    "    try:\n",
    "        while True:\n",
    "            if len(image_urls) <= 50:\n",
    "                driver.execute_script(\"window.scrollTo(0, document.body.scrollHeight);\")\n",
    "                driver.implicitly_wait(10)\n",
    "\n",
    "                pins = driver.find_elements(By.XPATH, \"//div[@data-test-id='pin-visual-wrapper']\")\n",
    "                for pin in pins:\n",
    "                    time.sleep(1)\n",
    "                    pins = driver.find_elements(By.XPATH, \"//div[@data-test-id='pin-visual-wrapper']\")\n",
    "                    img = pin.find_element(By.XPATH, \".//img\")\n",
    "                    if img:\n",
    "                        image_url = img.get_attribute(\"src\")\n",
    "                        image_urls.append(image_url)\n",
    "            else:\n",
    "                break\n",
    "    except KeyboardInterrupt:\n",
    "        pass\n",
    "\n",
    "    return image_urls\n",
    "\n",
    "# Function to save image URLs to a CSV file\n",
    "def create_csv(list_of_images, filename):\n",
    "    csv_filename = f\"pinterest_image_urls_{tags}.csv\"\n",
    "    df = pd.DataFrame(columns=['URls'])\n",
    "    df['URLs'] = list_of_images\n",
    "    df.to_csv(filename)\n",
    "\n",
    "if __name__ == \"__main__\":\n",
    "    # Take input from the user for Pinterest tags\n",
    "    user_input = input(\"Enter Pinterest tags (comma-separated): \")\n",
    "    tags = [tag.strip() for tag in user_input.split(\",\")]\n",
    "\n",
    "    # Set up the Selenium WebDriver (you'll need to specify the path to your WebDriver)\n",
    "    driver = webdriver.Chrome(executable_path=\"C:\\webdriver\\chromedriver.exe\")\n",
    "\n",
    "    # Scrape Pinterest for image URLs\n",
    "    image_urls = image_scraper(tags, driver)\n",
    "\n",
    "    if image_urls:\n",
    "        # Store the extracted URLs in a CSV file\n",
    "        csv_filename = f\"pinterest_image_urls_{tags}.csv\"\n",
    "        create_csv(image_urls, csv_filename)\n",
    "        print(f\"Image URLs saved to {csv_filename}\")\n",
    "    else:\n",
    "        print(\"No image URLs found for the provided tags.\")\n",
    "\n",
    "    # Close the browser\n",
    "    driver.quit()\n"
   ]
  },
  {
   "cell_type": "code",
   "execution_count": null,
   "id": "0e33db6e",
   "metadata": {},
   "outputs": [],
   "source": []
  }
 ],
 "metadata": {
  "kernelspec": {
   "display_name": "Python 3 (ipykernel)",
   "language": "python",
   "name": "python3"
  },
  "language_info": {
   "codemirror_mode": {
    "name": "ipython",
    "version": 3
   },
   "file_extension": ".py",
   "mimetype": "text/x-python",
   "name": "python",
   "nbconvert_exporter": "python",
   "pygments_lexer": "ipython3",
   "version": "3.9.7"
  }
 },
 "nbformat": 4,
 "nbformat_minor": 5
}
